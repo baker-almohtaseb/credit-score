{
  "nbformat": 4,
  "nbformat_minor": 0,
  "metadata": {
    "colab": {
      "provenance": []
    },
    "kernelspec": {
      "name": "python3",
      "display_name": "Python 3"
    },
    "language_info": {
      "name": "python"
    }
  },
  "cells": [
    {
      "cell_type": "code",
      "source": [
        "#@title Importing the required libraries\n",
        "import pandas as pd\n",
        "import numpy as np\n",
        "from sklearn.preprocessing import LabelEncoder,OneHotEncoder,OrdinalEncoder\n",
        "from sklearn.preprocessing import StandardScaler\n",
        "from sklearn.model_selection import train_test_split,GridSearchCV\n",
        "from sklearn.ensemble import RandomForestClassifier\n",
        "from sklearn.metrics import accuracy_score,confusion_matrix ,f1_score,precision_recall_fscore_support,classification_report,r2_score\n",
        "from sklearn.model_selection import cross_val_score\n",
        "import joblib as jb"
      ],
      "metadata": {
        "cellView": "form",
        "id": "3iGmpgm0BiWy"
      },
      "execution_count": null,
      "outputs": []
    },
    {
      "cell_type": "code",
      "source": [
        "#@title Enter set of number seperated by coma between 0-97999\n",
        "index = [int(x) for x in input(\"Enter multiple values\\n\").split(',')]\n"
      ],
      "metadata": {
        "colab": {
          "base_uri": "https://localhost:8080/"
        },
        "cellView": "form",
        "id": "uW4_4tIAbuK8",
        "outputId": "446555cc-fd76-4abf-e43f-ec49b917a87d"
      },
      "execution_count": null,
      "outputs": [
        {
          "name": "stdout",
          "output_type": "stream",
          "text": [
            "Enter multiple values\n",
            "542,45,873,13245,3215,6893\n"
          ]
        }
      ]
    },
    {
      "cell_type": "code",
      "source": [
        "#@title importing the dataset and split it to X and Y\n",
        "df=pd.read_csv(\"/content/credit_score.csv\")\n",
        "df.drop(['ID','Customer_ID','Name','SSN','Type_of_Loan'],axis=1,inplace=True)\n",
        "df.rename(columns = {'Credit_Mix':'New_Credit_Mix', 'Occupation':'New_Occupation','Payment_Behaviour':'New_Payment_Behaviour','Payment_of_Min_Amount':'New_Payment_of_Min_Amount'}, inplace = True)\n",
        "df=df[['Month', 'Age', 'Annual_Income', 'Monthly_Inhand_Salary',\n",
        "       'Num_Bank_Accounts', 'Num_Credit_Card', 'Interest_Rate', 'Num_of_Loan',\n",
        "       'Delay_from_due_date', 'Num_of_Delayed_Payment', 'Changed_Credit_Limit',\n",
        "       'Num_Credit_Inquiries', 'Outstanding_Debt', 'Credit_Utilization_Ratio',\n",
        "       'Credit_History_Age', 'Total_EMI_per_month', 'Amount_invested_monthly',\n",
        "       'Monthly_Balance', 'New_Payment_Behaviour', 'New_Payment_of_Min_Amount',\n",
        "       'New_Credit_Mix', 'New_Occupation','Credit_Score']]\n",
        "X = df.iloc[index,:-1]\n",
        "y = df.iloc[index,-1]\n",
        "print(type(index))\n",
        "print(index)"
      ],
      "metadata": {
        "id": "u0D5hm0ouIVi",
        "colab": {
          "base_uri": "https://localhost:8080/"
        },
        "cellView": "form",
        "outputId": "17ca8338-1dc7-473c-abd2-def5f930ee5c"
      },
      "execution_count": null,
      "outputs": [
        {
          "output_type": "stream",
          "name": "stdout",
          "text": [
            "<class 'list'>\n",
            "[542, 45, 873, 13245, 3215, 6893]\n"
          ]
        }
      ]
    },
    {
      "cell_type": "code",
      "source": [
        "#@title encrypte the categorical feature \n",
        "payment_behaviour=jb.load('/content/New_Payment_Behaviour.sav')\n",
        "X['New_Payment_Behaviour']=payment_behaviour.transform(X[['New_Payment_Behaviour']])\n",
        "payment_oma=jb.load('/content/New_Payment_of_Min_Amount.sav')\n",
        "X['New_Payment_of_Min_Amount']=payment_oma.transform(X[['New_Payment_of_Min_Amount']])\n",
        "credit_mix=jb.load('/content/New_Credit_Mix.sav')\n",
        "X['New_Credit_Mix']=credit_mix.transform(X[['New_Credit_Mix']])\n",
        "occupation=jb.load('/content/New_Occupation.sav')\n",
        "X['New_Occupation']=occupation.transform(X[['New_Occupation']])\n",
        "scaler=jb.load('/content/standard scaler.sav')\n",
        "X=scaler.transform(X)"
      ],
      "metadata": {
        "cellView": "form",
        "id": "Rb0YH6IFHoRo",
        "colab": {
          "base_uri": "https://localhost:8080/"
        },
        "outputId": "62236443-be96-47cc-e776-4f3c2e8ece40"
      },
      "execution_count": null,
      "outputs": [
        {
          "output_type": "stream",
          "name": "stderr",
          "text": [
            "/usr/local/lib/python3.9/dist-packages/sklearn/preprocessing/_label.py:134: DataConversionWarning: A column-vector y was passed when a 1d array was expected. Please change the shape of y to (n_samples, ), for example using ravel().\n",
            "  y = column_or_1d(y, dtype=self.classes_.dtype, warn=True)\n",
            "/usr/local/lib/python3.9/dist-packages/sklearn/preprocessing/_label.py:134: DataConversionWarning: A column-vector y was passed when a 1d array was expected. Please change the shape of y to (n_samples, ), for example using ravel().\n",
            "  y = column_or_1d(y, dtype=self.classes_.dtype, warn=True)\n",
            "/usr/local/lib/python3.9/dist-packages/sklearn/preprocessing/_label.py:134: DataConversionWarning: A column-vector y was passed when a 1d array was expected. Please change the shape of y to (n_samples, ), for example using ravel().\n",
            "  y = column_or_1d(y, dtype=self.classes_.dtype, warn=True)\n",
            "/usr/local/lib/python3.9/dist-packages/sklearn/preprocessing/_label.py:134: DataConversionWarning: A column-vector y was passed when a 1d array was expected. Please change the shape of y to (n_samples, ), for example using ravel().\n",
            "  y = column_or_1d(y, dtype=self.classes_.dtype, warn=True)\n"
          ]
        }
      ]
    },
    {
      "cell_type": "code",
      "source": [
        "#@title load the model and inverse transform of predicted value\n",
        "model=jb.load('/content/model (1).sav')\n",
        "credit_score=jb.load('/content/New_Credit_Score.sav')\n",
        "y1=model.predict(X)\n",
        "y_pred=credit_score.inverse_transform(y1)"
      ],
      "metadata": {
        "id": "Myo0Rtc2LA8s",
        "cellView": "form"
      },
      "execution_count": null,
      "outputs": []
    },
    {
      "cell_type": "code",
      "source": [
        "print(y[:]),print(y_pred[:])"
      ],
      "metadata": {
        "colab": {
          "base_uri": "https://localhost:8080/"
        },
        "id": "_yo9z5ngXTsg",
        "outputId": "13c9855b-7e55-432d-94b2-05bbb12af13f"
      },
      "execution_count": null,
      "outputs": [
        {
          "output_type": "stream",
          "name": "stdout",
          "text": [
            "542      Poor\n",
            "45       Good\n",
            "873      Poor\n",
            "13245    Poor\n",
            "3215     Poor\n",
            "6893     Poor\n",
            "Name: Credit_Score, dtype: object\n",
            "['Poor' 'Good' 'Poor' 'Poor' 'Poor' 'Standard']\n"
          ]
        },
        {
          "output_type": "execute_result",
          "data": {
            "text/plain": [
              "(None, None)"
            ]
          },
          "metadata": {},
          "execution_count": 10
        }
      ]
    }
  ]
}