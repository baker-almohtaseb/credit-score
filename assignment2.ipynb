{
  "nbformat": 4,
  "nbformat_minor": 0,
  "metadata": {
    "colab": {
      "provenance": []
    },
    "kernelspec": {
      "name": "python3",
      "display_name": "Python 3"
    },
    "language_info": {
      "name": "python"
    }
  },
  "cells": [
    {
      "cell_type": "code",
      "execution_count": null,
      "metadata": {
        "id": "O04A9di8acc8"
      },
      "outputs": [],
      "source": [
        "import pandas as pd\n",
        "import numpy as np\n",
        "from sklearn.preprocessing import LabelEncoder,OneHotEncoder,OrdinalEncoder\n",
        "from sklearn.preprocessing import StandardScaler\n",
        "from sklearn.preprocessing import PolynomialFeatures\n",
        "from sklearn.model_selection import train_test_split,GridSearchCV\n",
        "from sklearn.ensemble import RandomForestClassifier\n",
        "from sklearn.metrics import accuracy_score,confusion_matrix ,f1_score,precision_recall_fscore_support,classification_report\n",
        "from sklearn.tree import DecisionTreeClassifier\n",
        "from sklearn.model_selection import cross_val_score\n",
        "from sklearn.naive_bayes import GaussianNB\n",
        "from sklearn.neighbors import KNeighborsClassifier\n",
        "import joblib as jb\n",
        "import matplotlib.pyplot as plt\n",
        "from imblearn.under_sampling import NearMiss\n",
        "from imblearn.over_sampling import SMOTE"
      ]
    },
    {
      "cell_type": "code",
      "source": [
        "df=pd.read_csv(\"/content/credit_score.csv\")"
      ],
      "metadata": {
        "id": "fOSN29vqatkC"
      },
      "execution_count": null,
      "outputs": []
    },
    {
      "cell_type": "code",
      "source": [
        "df.isnull().any(axis=1).sum()"
      ],
      "metadata": {
        "colab": {
          "base_uri": "https://localhost:8080/"
        },
        "id": "zijuNOyDayLi",
        "outputId": "5a7354d9-cd52-4d5b-9f8f-edf1e32c4cd5"
      },
      "execution_count": null,
      "outputs": [
        {
          "output_type": "execute_result",
          "data": {
            "text/plain": [
              "0"
            ]
          },
          "metadata": {},
          "execution_count": 6
        }
      ]
    },
    {
      "cell_type": "code",
      "source": [
        "df['Credit_Score'].value_counts(normalize=True)"
      ],
      "metadata": {
        "colab": {
          "base_uri": "https://localhost:8080/"
        },
        "id": "pOxpPY_kD6tA",
        "outputId": "f6592afb-ae80-440d-e458-2f6f5341da09"
      },
      "execution_count": null,
      "outputs": [
        {
          "output_type": "execute_result",
          "data": {
            "text/plain": [
              "Standard    0.530138\n",
              "Poor        0.291901\n",
              "Good        0.177961\n",
              "Name: Credit_Score, dtype: float64"
            ]
          },
          "metadata": {},
          "execution_count": 3
        }
      ]
    },
    {
      "cell_type": "code",
      "source": [
        "#Droping Unneaded Columns \n",
        "df.drop(['ID','Customer_ID','Name','SSN','Type_of_Loan'],axis=1,inplace=True)"
      ],
      "metadata": {
        "id": "x4Cc4WsBa3r5"
      },
      "execution_count": null,
      "outputs": []
    },
    {
      "cell_type": "code",
      "source": [
        "def drop_outliers(df,field_name):\n",
        "  iqr=1.5*(np.percentile(df[field_name],75)-np.percentile(df[field_name],25))\n",
        "  df.drop(df[df[field_name]>(iqr+np.percentile(df[field_name],75))].index,inplace=True)\n",
        "  df.drop(df[df[field_name]<(np.percentile(df[field_name],25)-iqr)].index,inplace=True)\n",
        "drop_outliers(df,'Annual_Income')  "
      ],
      "metadata": {
        "id": "Orcd2sgtyZve"
      },
      "execution_count": null,
      "outputs": []
    },
    {
      "cell_type": "code",
      "source": [
        "list_of_feature=['Credit_Score','Payment_Behaviour','Payment_of_Min_Amount','Credit_Mix','Occupation']\n",
        "def encoding(j):\n",
        "  le=LabelEncoder()\n",
        "  le.fit(df[j])\n",
        "  n='New_'+j\n",
        "  df[n]=le.transform(df[[j]])\n",
        "  jb.dump(le,n+'.sav')\n",
        "for i in list_of_feature:\n",
        "  encoding(i)\n",
        "df.drop(columns=['Credit_Score','Payment_Behaviour','Payment_of_Min_Amount','Credit_Mix','Occupation'],axis=1,inplace=True)  "
      ],
      "metadata": {
        "id": "xYoGOnWo6cyC",
        "colab": {
          "base_uri": "https://localhost:8080/"
        },
        "outputId": "3da91b2f-2410-462b-fb8d-584ba727bf15"
      },
      "execution_count": null,
      "outputs": [
        {
          "output_type": "stream",
          "name": "stderr",
          "text": [
            "/usr/local/lib/python3.9/dist-packages/sklearn/preprocessing/_label.py:134: DataConversionWarning: A column-vector y was passed when a 1d array was expected. Please change the shape of y to (n_samples, ), for example using ravel().\n",
            "  y = column_or_1d(y, dtype=self.classes_.dtype, warn=True)\n",
            "/usr/local/lib/python3.9/dist-packages/sklearn/preprocessing/_label.py:134: DataConversionWarning: A column-vector y was passed when a 1d array was expected. Please change the shape of y to (n_samples, ), for example using ravel().\n",
            "  y = column_or_1d(y, dtype=self.classes_.dtype, warn=True)\n",
            "/usr/local/lib/python3.9/dist-packages/sklearn/preprocessing/_label.py:134: DataConversionWarning: A column-vector y was passed when a 1d array was expected. Please change the shape of y to (n_samples, ), for example using ravel().\n",
            "  y = column_or_1d(y, dtype=self.classes_.dtype, warn=True)\n",
            "/usr/local/lib/python3.9/dist-packages/sklearn/preprocessing/_label.py:134: DataConversionWarning: A column-vector y was passed when a 1d array was expected. Please change the shape of y to (n_samples, ), for example using ravel().\n",
            "  y = column_or_1d(y, dtype=self.classes_.dtype, warn=True)\n",
            "/usr/local/lib/python3.9/dist-packages/sklearn/preprocessing/_label.py:134: DataConversionWarning: A column-vector y was passed when a 1d array was expected. Please change the shape of y to (n_samples, ), for example using ravel().\n",
            "  y = column_or_1d(y, dtype=self.classes_.dtype, warn=True)\n"
          ]
        }
      ]
    },
    {
      "cell_type": "code",
      "source": [
        "df.shape"
      ],
      "metadata": {
        "colab": {
          "base_uri": "https://localhost:8080/"
        },
        "id": "a5pn3dkjBF0Y",
        "outputId": "622ce5d8-9146-48da-dea7-fe2f28208357"
      },
      "execution_count": null,
      "outputs": [
        {
          "output_type": "execute_result",
          "data": {
            "text/plain": [
              "(98000, 23)"
            ]
          },
          "metadata": {},
          "execution_count": 89
        }
      ]
    },
    {
      "cell_type": "code",
      "source": [
        "df.columns = df.columns.astype(str)\n",
        "df.columns.map(type)\n",
        "# df.columns.map(type)\n"
      ],
      "metadata": {
        "colab": {
          "base_uri": "https://localhost:8080/"
        },
        "id": "s1ST4bqevAps",
        "outputId": "24e843b2-7b07-4b3f-b397-f8c767bc2133"
      },
      "execution_count": null,
      "outputs": [
        {
          "output_type": "execute_result",
          "data": {
            "text/plain": [
              "Index([<class 'str'>, <class 'str'>, <class 'str'>, <class 'str'>,\n",
              "       <class 'str'>, <class 'str'>, <class 'str'>, <class 'str'>,\n",
              "       <class 'str'>, <class 'str'>, <class 'str'>, <class 'str'>,\n",
              "       <class 'str'>, <class 'str'>, <class 'str'>, <class 'str'>,\n",
              "       <class 'str'>, <class 'str'>, <class 'str'>, <class 'str'>,\n",
              "       <class 'str'>, <class 'str'>, <class 'str'>],\n",
              "      dtype='object')"
            ]
          },
          "metadata": {},
          "execution_count": 6
        }
      ]
    },
    {
      "cell_type": "code",
      "source": [
        "X = df.drop('New_Credit_Score',axis = 1)\n",
        "y = df['New_Credit_Score']"
      ],
      "metadata": {
        "id": "VFqgzYbeV2OY"
      },
      "execution_count": null,
      "outputs": []
    },
    {
      "cell_type": "code",
      "source": [
        "sc=StandardScaler()\n",
        "X=sc.fit_transform(X)"
      ],
      "metadata": {
        "id": "zko-C66WsYRS"
      },
      "execution_count": null,
      "outputs": []
    },
    {
      "cell_type": "code",
      "source": [
        "jb.dump(sc,'standard scaler.sav')"
      ],
      "metadata": {
        "colab": {
          "base_uri": "https://localhost:8080/"
        },
        "id": "PLe55oIUvOv-",
        "outputId": "1ae70744-905e-4d69-e6d8-d8cb3aca8346"
      },
      "execution_count": null,
      "outputs": [
        {
          "output_type": "execute_result",
          "data": {
            "text/plain": [
              "['standard scaler.sav']"
            ]
          },
          "metadata": {},
          "execution_count": 93
        }
      ]
    },
    {
      "cell_type": "code",
      "source": [
        "X_train, X_test, y_train, y_test = train_test_split(X, y,test_size=0.4,shuffle=True)"
      ],
      "metadata": {
        "id": "qm95j2JJbNt4"
      },
      "execution_count": null,
      "outputs": []
    },
    {
      "cell_type": "code",
      "source": [
        "rfc = RandomForestClassifier(n_estimators = 75,max_depth=14,min_samples_split=10,random_state=1)  \n",
        "  \n",
        "# Training the model on the training dataset\n",
        "# fit function is used to train the model using the training sets as parameters\n",
        "rfc.fit(X_train, y_train)\n",
        "  \n",
        "# performing predictions on the test dataset\n",
        "y_pred = rfc.predict(X_test)\n",
        "print(\"ACCURACY OF THE MODEL: \", accuracy_score(y_test, y_pred))\n",
        "print(\"ACCURACY OF THE MODEL: \", rfc.score(X_train, y_train))\n",
        "print(\"ACCURACY OF THE MODEL: \", rfc.score(X_test, y_test))"
      ],
      "metadata": {
        "colab": {
          "base_uri": "https://localhost:8080/"
        },
        "id": "2Er3GVQxr0FV",
        "outputId": "54b6f78f-7db4-46df-97d8-6db0a78b7bff"
      },
      "execution_count": null,
      "outputs": [
        {
          "output_type": "stream",
          "name": "stdout",
          "text": [
            "ACCURACY OF THE MODEL:  0.762984693877551\n",
            "ACCURACY OF THE MODEL:  0.817687074829932\n",
            "ACCURACY OF THE MODEL:  0.762984693877551\n"
          ]
        }
      ]
    },
    {
      "cell_type": "code",
      "source": [
        "jb.dump(rfc,'model.sav')"
      ],
      "metadata": {
        "colab": {
          "base_uri": "https://localhost:8080/"
        },
        "id": "a9DqBStZ_UK-",
        "outputId": "6ac6b9b6-d5cf-4e60-d68b-0edd00a376e9"
      },
      "execution_count": null,
      "outputs": [
        {
          "output_type": "execute_result",
          "data": {
            "text/plain": [
              "['model.sav']"
            ]
          },
          "metadata": {},
          "execution_count": 76
        }
      ]
    },
    {
      "cell_type": "code",
      "source": [
        "print(cross_val_score(rfc,X,y,cv=5,scoring='accuracy'))"
      ],
      "metadata": {
        "colab": {
          "base_uri": "https://localhost:8080/"
        },
        "id": "k-v8MJWT9Fl-",
        "outputId": "35b1f672-60c1-4aad-99a6-6b92bfd07e4e"
      },
      "execution_count": null,
      "outputs": [
        {
          "output_type": "stream",
          "name": "stdout",
          "text": [
            "[0.70423469 0.70984694 0.71729592 0.70418367 0.71617347]\n"
          ]
        }
      ]
    },
    {
      "cell_type": "code",
      "source": [
        "print(classification_report(y_test,y_pred))"
      ],
      "metadata": {
        "colab": {
          "base_uri": "https://localhost:8080/"
        },
        "id": "15ej1Gw225PF",
        "outputId": "91e36fd9-6a52-4be0-87a7-d1b26a87aead"
      },
      "execution_count": null,
      "outputs": [
        {
          "output_type": "stream",
          "name": "stdout",
          "text": [
            "              precision    recall  f1-score   support\n",
            "\n",
            "           0       0.65      0.76      0.70      6787\n",
            "           1       0.77      0.73      0.75     11501\n",
            "           2       0.80      0.78      0.79     20912\n",
            "\n",
            "    accuracy                           0.76     39200\n",
            "   macro avg       0.74      0.76      0.75     39200\n",
            "weighted avg       0.77      0.76      0.76     39200\n",
            "\n"
          ]
        }
      ]
    },
    {
      "cell_type": "code",
      "source": [
        "print(f1_score(y_test, y_pred, average=None))"
      ],
      "metadata": {
        "colab": {
          "base_uri": "https://localhost:8080/"
        },
        "id": "p1BC8oDC9G_B",
        "outputId": "4bc10447-099a-420b-eb90-b23cf478893d"
      },
      "execution_count": null,
      "outputs": [
        {
          "output_type": "stream",
          "name": "stdout",
          "text": [
            "[0.80009066 0.83697547 0.8431716 ]\n"
          ]
        }
      ]
    },
    {
      "cell_type": "code",
      "source": [
        "# Create Decision Tree classifer object\n",
        "clf = DecisionTreeClassifier(criterion=\"entropy\", max_depth=15)\n",
        "# Train Decision Tree Classifer\n",
        "clf = clf.fit(X_train,y_train)\n",
        "#Predict the response for test dataset\n",
        "y_pred = clf.predict(X_test)\n",
        "# Model Accuracy, how often is the classifier correct?\n",
        "print(\"Accuracy:\",accuracy_score(y_test, y_pred))\n",
        "print(\"Accuracy:\",clf.score(X_train, y_train))\n",
        "print(\"Accuracy:\",clf.score(X_test, y_test))"
      ],
      "metadata": {
        "colab": {
          "base_uri": "https://localhost:8080/"
        },
        "id": "_qAZ53m3yBod",
        "outputId": "90957eb0-bab0-487b-e679-ec52f3cdddf4"
      },
      "execution_count": null,
      "outputs": [
        {
          "output_type": "stream",
          "name": "stdout",
          "text": [
            "Accuracy: 0.7263520408163265\n",
            "Accuracy: 0.8156292517006802\n",
            "Accuracy: 0.7263520408163265\n"
          ]
        }
      ]
    },
    {
      "cell_type": "code",
      "source": [
        "knn = KNeighborsClassifier(n_neighbors=10,algorithm='ball_tree',weights='distance')\n",
        "knn.fit(X_train, y_train)\n",
        "y_pred=knn.predict(X_test)\n",
        "print(accuracy_score(y_test,y_pred))\n",
        "print(\"Accuracy:\",knn.score(X_train, y_train))"
      ],
      "metadata": {
        "colab": {
          "base_uri": "https://localhost:8080/"
        },
        "id": "wCNSvRF1z3Ge",
        "outputId": "ecd04634-9479-4579-b6b2-d60f52d1846d"
      },
      "execution_count": null,
      "outputs": [
        {
          "output_type": "stream",
          "name": "stdout",
          "text": [
            "0.740675\n",
            "Accuracy: 1.0\n"
          ]
        }
      ]
    },
    {
      "cell_type": "code",
      "source": [
        "from sklearn.svm import SVC\n",
        "# Building a Support Vector Machine on train data\n",
        "svc_model = SVC()\n",
        "svc_model.fit(X_train, y_train)\n",
        "prediction = svc_model .predict(X_test)\n",
        "# check the accuracy on the training set\n",
        "print(svc_model.score(X_train, y_train))\n",
        "print(svc_model.score(X_test, y_test))"
      ],
      "metadata": {
        "id": "HW9AF4M44BTZ"
      },
      "execution_count": null,
      "outputs": []
    },
    {
      "cell_type": "code",
      "source": [
        "gnb = GaussianNB()\n",
        "gnb.fit(X_train, y_train)\n",
        "y_pred =gnb.predict(X_test)\n",
        "print(gnb.score(X_train, y_train))\n",
        "print(gnb.score(X_test, y_test))"
      ],
      "metadata": {
        "colab": {
          "base_uri": "https://localhost:8080/"
        },
        "id": "WcJb7r5dPizW",
        "outputId": "f04ba076-6606-4f0a-fcde-a63c9acd6c96"
      },
      "execution_count": null,
      "outputs": [
        {
          "output_type": "stream",
          "name": "stdout",
          "text": [
            "0.63584\n",
            "0.63552\n"
          ]
        }
      ]
    },
    {
      "cell_type": "code",
      "source": [
        "selected_parmeter_svc={'C':[1,2,3,4,5],'kernel':('linear','rbf'),'gamma':[1, 0.1, 0.01, 0.001, 0.0001]}"
      ],
      "metadata": {
        "id": "WSHA0Yi2-kpa"
      },
      "execution_count": null,
      "outputs": []
    },
    {
      "cell_type": "code",
      "source": [
        "grid=GridSearchCV(svc_model,selected_parmeter_svc,refit=True,verbose=2,return_train_score=True)\n",
        "grid.fit(X_train,y_train)\n",
        "grid_predictions = grid.predict(X_test)\n",
        "print('best score ',grid.best_score_)\n",
        "print('best parmeter ',grid.best_params_)\n",
        "print(grid.classification_report(y_test,y_pred))"
      ],
      "metadata": {
        "id": "TKUuvrYp99zo",
        "colab": {
          "base_uri": "https://localhost:8080/"
        },
        "outputId": "884156dd-edba-4c6f-f6cf-b7f4eeb5dfdf"
      },
      "execution_count": null,
      "outputs": [
        {
          "output_type": "stream",
          "name": "stdout",
          "text": [
            "Fitting 5 folds for each of 50 candidates, totalling 250 fits\n",
            "[CV] END ........................C=1, gamma=1, kernel=linear; total time= 9.1min\n",
            "[CV] END ........................C=1, gamma=1, kernel=linear; total time= 9.5min\n",
            "[CV] END ........................C=1, gamma=1, kernel=linear; total time= 8.8min\n",
            "[CV] END ........................C=1, gamma=1, kernel=linear; total time= 8.1min\n",
            "[CV] END ........................C=1, gamma=1, kernel=linear; total time= 8.4min\n",
            "[CV] END ...........................C=1, gamma=1, kernel=rbf; total time=18.6min\n",
            "[CV] END ...........................C=1, gamma=1, kernel=rbf; total time=18.9min\n",
            "[CV] END ...........................C=1, gamma=1, kernel=rbf; total time=18.1min\n",
            "[CV] END ...........................C=1, gamma=1, kernel=rbf; total time=17.8min\n",
            "[CV] END ...........................C=1, gamma=1, kernel=rbf; total time=18.4min\n",
            "[CV] END ......................C=1, gamma=0.1, kernel=linear; total time= 9.5min\n",
            "[CV] END ......................C=1, gamma=0.1, kernel=linear; total time= 9.5min\n",
            "[CV] END ......................C=1, gamma=0.1, kernel=linear; total time= 9.9min\n",
            "[CV] END ......................C=1, gamma=0.1, kernel=linear; total time=10.0min\n",
            "[CV] END ......................C=1, gamma=0.1, kernel=linear; total time= 9.6min\n",
            "[CV] END .........................C=1, gamma=0.1, kernel=rbf; total time=10.9min\n"
          ]
        }
      ]
    },
    {
      "cell_type": "code",
      "source": [
        "%pip install mlxtend --upgrade\n"
      ],
      "metadata": {
        "id": "vkPqDK2VaAW7"
      },
      "execution_count": null,
      "outputs": []
    },
    {
      "cell_type": "code",
      "source": [
        "sm = SMOTE(sampling_strategy = 'minority', random_state=0,k_neighbors=20)\n",
        "nr = NearMiss(sampling_strategy='not minority',n_neighbors=15)\n",
        "def Inbalance(x,name_of_criteria):\n",
        "  X_train_new, y_train_new = sm.fit_resample(X_train, y_train)\n",
        "  rfc1 = RandomForestClassifier(n_estimators = 50,max_depth=15,min_samples_split=10)  \n",
        "  rfc1.fit(X_train_new, y_train_new)\n",
        "  y_pred_new = rfc1.predict(X_test)\n",
        "  print(\"Test accuracy of \",name_of_criteria, accuracy_score(y_test, y_pred_new))\n",
        "  print(\"Trian accuracy of \",name_of_criteria, rfc1.score(X_train_new, y_train_new))\n",
        "Inbalance(sm,'smote ')\n",
        "Inbalance(nr,'near_miss ')"
      ],
      "metadata": {
        "colab": {
          "base_uri": "https://localhost:8080/"
        },
        "id": "fOV_4Eybqb3a",
        "outputId": "f4e253c7-ad64-4493-99ce-66a82913447c"
      },
      "execution_count": null,
      "outputs": [
        {
          "output_type": "stream",
          "name": "stdout",
          "text": [
            "Test accuracy of  smote  0.747219387755102\n",
            "Trian accuracy of  smote  0.8489168186701982\n",
            "Test accuracy of  near_miss  0.7451020408163266\n",
            "Trian accuracy of  near_miss  0.8468304140326328\n"
          ]
        }
      ]
    },
    {
      "cell_type": "code",
      "source": [
        "fs_indices_rfi = np.argsort(rfc.feature_importances_)[::-1][:-9]\n",
        "best_features_rfi = df.columns[fs_indices_rfi].values\n",
        "\n",
        "feature_importances_rfi = rfc.feature_importances_[fs_indices_rfi]\n",
        "feature_importances_rfi\n",
        "\n",
        "def plot_imp(best_features, scores, method_name): \n",
        "    plt.barh(best_features, scores)\n",
        "    plt.rcParams[\"figure.figsize\"] = (9,6)\n",
        "    plt.title(method_name + ' Feature Importances')\n",
        "    plt.xlabel(\"Importance\")\n",
        "    plt.ylabel(\"Features\")\n",
        "    plt.show()\n",
        "plot_imp(best_features_rfi, feature_importances_rfi, 'Random Forest')    "
      ],
      "metadata": {
        "colab": {
          "base_uri": "https://localhost:8080/",
          "height": 404
        },
        "id": "mmQjCBRM3Vy7",
        "outputId": "229e18bd-2087-414f-a6cd-0ba3b6c98103"
      },
      "execution_count": null,
      "outputs": [
        {
          "output_type": "display_data",
          "data": {
            "text/plain": [
              "<Figure size 720x432 with 1 Axes>"
            ],
            "image/png": "[encoded data removed]"
          },
          "metadata": {
            "needs_background": "light"
          }
        }
      ]
    },
    {
      "cell_type": "code",
      "source": [
        "# Get Bias and Variance - bias_variance_decomp function\n",
        "rfc1 = RandomForestClassifier()  \n",
        "from mlxtend.evaluate import bias_variance_decomp\n",
        "avg_expected_loss, avg_bias, avg_var = bias_variance_decomp(estimator=rfc1, X_train, y_train, X_test, y_test,loss='0-1_loss',random_seed=123)\n",
        "print('Average expected loss: %.3f' % avg_expected_loss)\n",
        "print('Average bias: %.3f' % avg_bias)\n",
        "print('Average variance: %.3f' % avg_var)"
      ],
      "metadata": {
        "id": "bYaJr93zCBvS",
        "colab": {
          "base_uri": "https://localhost:8080/",
          "height": 130
        },
        "outputId": "0ae1fa1c-acdd-4fd1-fcdd-5df3ad8ad652"
      },
      "execution_count": null,
      "outputs": [
        {
          "output_type": "error",
          "ename": "SyntaxError",
          "evalue": "ignored",
          "traceback": [
            "\u001b[0;36m  File \u001b[0;32m\"<ipython-input-23-796cd4de8b8a>\"\u001b[0;36m, line \u001b[0;32m4\u001b[0m\n\u001b[0;31m    avg_expected_loss, avg_bias, avg_var = bias_variance_decomp(estimator=rfc1, X_train, y_train, X_test, y_test,loss='0-1_loss',random_seed=123)\u001b[0m\n\u001b[0m                                                                                                                                                ^\u001b[0m\n\u001b[0;31mSyntaxError\u001b[0m\u001b[0;31m:\u001b[0m positional argument follows keyword argument\n"
          ]
        }
      ]
    }
  ]
}